{
 "cells": [
  {
   "cell_type": "markdown",
   "id": "ad7fbe2b-da60-4059-ae71-e322fecfd0db",
   "metadata": {},
   "source": [
    "# Lab 4: Building a Spotify Song Classifier with KNNs and Decision Trees\n",
    "**Classify by genres**. In this lab, you will build machine learning genre classifiers using a dataset of Spotify tracks. Your goal is to train a model that can distinguish between two selected genres based on various audio features such as danceability, energy, valence, tempo, and more.\n",
    "\n",
    "We'll follow the familiar workflow of data exploration -> preprocessing -> model training -> evaluation"
   ]
  },
  {
   "cell_type": "code",
   "execution_count": 1,
   "id": "cb34875f",
   "metadata": {},
   "outputs": [],
   "source": [
    "import pandas as pd\n",
    "from sklearn.preprocessing import LabelEncoder\n",
    "from sklearn.preprocessing import StandardScaler\n",
    "from sklearn.model_selection import train_test_split, GridSearchCV\n",
    "import matplotlib.pyplot as plt\n",
    "import seaborn as sns\n",
    "from sklearn.neighbors import KNeighborsClassifier\n",
    "from sklearn.tree import DecisionTreeClassifier\n",
    "from sklearn.metrics import accuracy_score"
   ]
  },
  {
   "cell_type": "markdown",
   "id": "4aaac8c4-fbb4-40f9-8a59-e800395c6c65",
   "metadata": {},
   "source": [
    "### Step 1: The data\n",
    "We'll focus on two genres: Blues and Jazz (what’s the difference, anyway??).\n",
    "\n",
    "Both genres have rich musical histories, but they differ in structure:\n",
    "\n",
    "- Blues tends to have simpler chord progressions and a strong emotional expression.\n",
    "- Jazz often involves complex improvisation and more varied rhythms.\n",
    "\n",
    "But can a machine really tell them apart just by looking at numerical audio features? That’s what we’ll find out!\n",
    "\n",
    "In this step, you will:\n",
    "- Load the dataset\n",
    "- Extract only blues and jazz for classification"
   ]
  },
  {
   "cell_type": "code",
   "execution_count": 2,
   "id": "082e215a",
   "metadata": {},
   "outputs": [
    {
     "data": {
      "text/html": [
       "<div>\n",
       "<style scoped>\n",
       "    .dataframe tbody tr th:only-of-type {\n",
       "        vertical-align: middle;\n",
       "    }\n",
       "\n",
       "    .dataframe tbody tr th {\n",
       "        vertical-align: top;\n",
       "    }\n",
       "\n",
       "    .dataframe thead th {\n",
       "        text-align: right;\n",
       "    }\n",
       "</style>\n",
       "<table border=\"1\" class=\"dataframe\">\n",
       "  <thead>\n",
       "    <tr style=\"text-align: right;\">\n",
       "      <th></th>\n",
       "      <th>id</th>\n",
       "      <th>name</th>\n",
       "      <th>album</th>\n",
       "      <th>album_id</th>\n",
       "      <th>artists</th>\n",
       "      <th>artist_ids</th>\n",
       "      <th>track_number</th>\n",
       "      <th>disc_number</th>\n",
       "      <th>explicit</th>\n",
       "      <th>danceability</th>\n",
       "      <th>...</th>\n",
       "      <th>acousticness</th>\n",
       "      <th>instrumentalness</th>\n",
       "      <th>liveness</th>\n",
       "      <th>valence</th>\n",
       "      <th>tempo</th>\n",
       "      <th>duration_ms</th>\n",
       "      <th>time_signature</th>\n",
       "      <th>year</th>\n",
       "      <th>release_date</th>\n",
       "      <th>genre</th>\n",
       "    </tr>\n",
       "  </thead>\n",
       "  <tbody>\n",
       "    <tr>\n",
       "      <th>0</th>\n",
       "      <td>4MdlxZHzUi8fGvuXOtNVhb</td>\n",
       "      <td>Johnny B. Goode - Live</td>\n",
       "      <td>Johnny Winter: A Rock N' Roll Collection</td>\n",
       "      <td>6yn5Mylr8HsH9PVro7Fo22</td>\n",
       "      <td>['Johnny Winter']</td>\n",
       "      <td>['2ODUxmFxJSyvGiimNhMHbO']</td>\n",
       "      <td>1</td>\n",
       "      <td>1</td>\n",
       "      <td>False</td>\n",
       "      <td>0.415</td>\n",
       "      <td>...</td>\n",
       "      <td>0.023</td>\n",
       "      <td>0.077100</td>\n",
       "      <td>0.9410</td>\n",
       "      <td>0.924</td>\n",
       "      <td>159.366</td>\n",
       "      <td>203407</td>\n",
       "      <td>4.0</td>\n",
       "      <td>1973</td>\n",
       "      <td>1973</td>\n",
       "      <td>blues</td>\n",
       "    </tr>\n",
       "    <tr>\n",
       "      <th>1</th>\n",
       "      <td>576DmaRTiVhm3l00mpQwDm</td>\n",
       "      <td>Good Morning Little School Girl - Live</td>\n",
       "      <td>Johnny Winter: A Rock N' Roll Collection</td>\n",
       "      <td>6yn5Mylr8HsH9PVro7Fo22</td>\n",
       "      <td>['Johnny Winter']</td>\n",
       "      <td>['2ODUxmFxJSyvGiimNhMHbO']</td>\n",
       "      <td>2</td>\n",
       "      <td>1</td>\n",
       "      <td>False</td>\n",
       "      <td>0.294</td>\n",
       "      <td>...</td>\n",
       "      <td>0.188</td>\n",
       "      <td>0.422000</td>\n",
       "      <td>0.9740</td>\n",
       "      <td>0.639</td>\n",
       "      <td>187.886</td>\n",
       "      <td>276968</td>\n",
       "      <td>4.0</td>\n",
       "      <td>1973</td>\n",
       "      <td>1973</td>\n",
       "      <td>blues</td>\n",
       "    </tr>\n",
       "    <tr>\n",
       "      <th>2</th>\n",
       "      <td>3k3Q8IZ5oOqCUfOP2UPgpW</td>\n",
       "      <td>I'll Drown in My Tears</td>\n",
       "      <td>Johnny Winter: A Rock N' Roll Collection</td>\n",
       "      <td>6yn5Mylr8HsH9PVro7Fo22</td>\n",
       "      <td>['Johnny Winter']</td>\n",
       "      <td>['2ODUxmFxJSyvGiimNhMHbO']</td>\n",
       "      <td>3</td>\n",
       "      <td>1</td>\n",
       "      <td>False</td>\n",
       "      <td>0.424</td>\n",
       "      <td>...</td>\n",
       "      <td>0.827</td>\n",
       "      <td>0.000021</td>\n",
       "      <td>0.0742</td>\n",
       "      <td>0.390</td>\n",
       "      <td>95.799</td>\n",
       "      <td>285360</td>\n",
       "      <td>3.0</td>\n",
       "      <td>1973</td>\n",
       "      <td>1973</td>\n",
       "      <td>blues</td>\n",
       "    </tr>\n",
       "    <tr>\n",
       "      <th>3</th>\n",
       "      <td>1fuxmrrP5JKu0eeHi1c7Ug</td>\n",
       "      <td>When You Got A Good Friend</td>\n",
       "      <td>Johnny Winter: A Rock N' Roll Collection</td>\n",
       "      <td>6yn5Mylr8HsH9PVro7Fo22</td>\n",
       "      <td>['Johnny Winter']</td>\n",
       "      <td>['2ODUxmFxJSyvGiimNhMHbO']</td>\n",
       "      <td>4</td>\n",
       "      <td>1</td>\n",
       "      <td>False</td>\n",
       "      <td>0.504</td>\n",
       "      <td>...</td>\n",
       "      <td>0.831</td>\n",
       "      <td>0.030000</td>\n",
       "      <td>0.1680</td>\n",
       "      <td>0.787</td>\n",
       "      <td>146.244</td>\n",
       "      <td>218453</td>\n",
       "      <td>4.0</td>\n",
       "      <td>1973</td>\n",
       "      <td>1973</td>\n",
       "      <td>blues</td>\n",
       "    </tr>\n",
       "    <tr>\n",
       "      <th>4</th>\n",
       "      <td>6yziyzrBhA2mFApoJKAill</td>\n",
       "      <td>Be Careful with a Fool</td>\n",
       "      <td>Johnny Winter: A Rock N' Roll Collection</td>\n",
       "      <td>6yn5Mylr8HsH9PVro7Fo22</td>\n",
       "      <td>['Johnny Winter']</td>\n",
       "      <td>['2ODUxmFxJSyvGiimNhMHbO']</td>\n",
       "      <td>5</td>\n",
       "      <td>1</td>\n",
       "      <td>False</td>\n",
       "      <td>0.293</td>\n",
       "      <td>...</td>\n",
       "      <td>0.494</td>\n",
       "      <td>0.022300</td>\n",
       "      <td>0.2080</td>\n",
       "      <td>0.730</td>\n",
       "      <td>206.991</td>\n",
       "      <td>315133</td>\n",
       "      <td>3.0</td>\n",
       "      <td>1973</td>\n",
       "      <td>1973</td>\n",
       "      <td>blues</td>\n",
       "    </tr>\n",
       "    <tr>\n",
       "      <th>...</th>\n",
       "      <td>...</td>\n",
       "      <td>...</td>\n",
       "      <td>...</td>\n",
       "      <td>...</td>\n",
       "      <td>...</td>\n",
       "      <td>...</td>\n",
       "      <td>...</td>\n",
       "      <td>...</td>\n",
       "      <td>...</td>\n",
       "      <td>...</td>\n",
       "      <td>...</td>\n",
       "      <td>...</td>\n",
       "      <td>...</td>\n",
       "      <td>...</td>\n",
       "      <td>...</td>\n",
       "      <td>...</td>\n",
       "      <td>...</td>\n",
       "      <td>...</td>\n",
       "      <td>...</td>\n",
       "      <td>...</td>\n",
       "      <td>...</td>\n",
       "    </tr>\n",
       "    <tr>\n",
       "      <th>24829</th>\n",
       "      <td>0MJgsjnnH4YdmuNMSRJNz0</td>\n",
       "      <td>Conception - Live</td>\n",
       "      <td>Straight from the Heart - The Great Last Conce...</td>\n",
       "      <td>1GOgoIJQrxa4s2MG675S8D</td>\n",
       "      <td>['Chet Baker', 'Herb Geller']</td>\n",
       "      <td>['3rxeQlsv0Sc2nyYaZ5W71T', '3H9ax2xPjWhD150wCD...</td>\n",
       "      <td>3</td>\n",
       "      <td>1</td>\n",
       "      <td>False</td>\n",
       "      <td>0.509</td>\n",
       "      <td>...</td>\n",
       "      <td>0.937</td>\n",
       "      <td>0.247000</td>\n",
       "      <td>0.7200</td>\n",
       "      <td>0.602</td>\n",
       "      <td>126.930</td>\n",
       "      <td>475800</td>\n",
       "      <td>4.0</td>\n",
       "      <td>1990</td>\n",
       "      <td>1990-01-01</td>\n",
       "      <td>jazz</td>\n",
       "    </tr>\n",
       "    <tr>\n",
       "      <th>24830</th>\n",
       "      <td>2uFOq3FSjiEkJ8iLejjF4n</td>\n",
       "      <td>There's a Small Hotel - Live</td>\n",
       "      <td>Straight from the Heart - The Great Last Conce...</td>\n",
       "      <td>1GOgoIJQrxa4s2MG675S8D</td>\n",
       "      <td>['Chet Baker', 'Herb Geller']</td>\n",
       "      <td>['3rxeQlsv0Sc2nyYaZ5W71T', '3H9ax2xPjWhD150wCD...</td>\n",
       "      <td>4</td>\n",
       "      <td>1</td>\n",
       "      <td>False</td>\n",
       "      <td>0.399</td>\n",
       "      <td>...</td>\n",
       "      <td>0.974</td>\n",
       "      <td>0.884000</td>\n",
       "      <td>0.6880</td>\n",
       "      <td>0.340</td>\n",
       "      <td>127.161</td>\n",
       "      <td>383640</td>\n",
       "      <td>4.0</td>\n",
       "      <td>1990</td>\n",
       "      <td>1990-01-01</td>\n",
       "      <td>jazz</td>\n",
       "    </tr>\n",
       "    <tr>\n",
       "      <th>24831</th>\n",
       "      <td>0BCGxom5IUvEkU4LrnkWXe</td>\n",
       "      <td>Sippin' at Bells - Live</td>\n",
       "      <td>Straight from the Heart - The Great Last Conce...</td>\n",
       "      <td>1GOgoIJQrxa4s2MG675S8D</td>\n",
       "      <td>['Chet Baker', 'Herb Geller']</td>\n",
       "      <td>['3rxeQlsv0Sc2nyYaZ5W71T', '3H9ax2xPjWhD150wCD...</td>\n",
       "      <td>5</td>\n",
       "      <td>1</td>\n",
       "      <td>False</td>\n",
       "      <td>0.458</td>\n",
       "      <td>...</td>\n",
       "      <td>0.679</td>\n",
       "      <td>0.534000</td>\n",
       "      <td>0.6820</td>\n",
       "      <td>0.706</td>\n",
       "      <td>110.376</td>\n",
       "      <td>306493</td>\n",
       "      <td>3.0</td>\n",
       "      <td>1990</td>\n",
       "      <td>1990-01-01</td>\n",
       "      <td>jazz</td>\n",
       "    </tr>\n",
       "    <tr>\n",
       "      <th>24832</th>\n",
       "      <td>3AeZJlUAENNYUH3ziWQYO6</td>\n",
       "      <td>Tenderly - Live</td>\n",
       "      <td>Straight from the Heart - The Great Last Conce...</td>\n",
       "      <td>1GOgoIJQrxa4s2MG675S8D</td>\n",
       "      <td>['Chet Baker', 'Herb Geller']</td>\n",
       "      <td>['3rxeQlsv0Sc2nyYaZ5W71T', '3H9ax2xPjWhD150wCD...</td>\n",
       "      <td>6</td>\n",
       "      <td>1</td>\n",
       "      <td>False</td>\n",
       "      <td>0.385</td>\n",
       "      <td>...</td>\n",
       "      <td>0.968</td>\n",
       "      <td>0.898000</td>\n",
       "      <td>0.6890</td>\n",
       "      <td>0.408</td>\n",
       "      <td>138.515</td>\n",
       "      <td>423040</td>\n",
       "      <td>4.0</td>\n",
       "      <td>1990</td>\n",
       "      <td>1990-01-01</td>\n",
       "      <td>jazz</td>\n",
       "    </tr>\n",
       "    <tr>\n",
       "      <th>24833</th>\n",
       "      <td>75jObLk27hw3y8QMysTBd2</td>\n",
       "      <td>My Funny Valentine - Live</td>\n",
       "      <td>Straight from the Heart - The Great Last Conce...</td>\n",
       "      <td>1GOgoIJQrxa4s2MG675S8D</td>\n",
       "      <td>['Chet Baker', 'Herb Geller']</td>\n",
       "      <td>['3rxeQlsv0Sc2nyYaZ5W71T', '3H9ax2xPjWhD150wCD...</td>\n",
       "      <td>7</td>\n",
       "      <td>1</td>\n",
       "      <td>False</td>\n",
       "      <td>0.362</td>\n",
       "      <td>...</td>\n",
       "      <td>0.991</td>\n",
       "      <td>0.839000</td>\n",
       "      <td>0.1630</td>\n",
       "      <td>0.256</td>\n",
       "      <td>99.143</td>\n",
       "      <td>407827</td>\n",
       "      <td>3.0</td>\n",
       "      <td>1990</td>\n",
       "      <td>1990-01-01</td>\n",
       "      <td>jazz</td>\n",
       "    </tr>\n",
       "  </tbody>\n",
       "</table>\n",
       "<p>24834 rows × 25 columns</p>\n",
       "</div>"
      ],
      "text/plain": [
       "                           id                                    name  \\\n",
       "0      4MdlxZHzUi8fGvuXOtNVhb                  Johnny B. Goode - Live   \n",
       "1      576DmaRTiVhm3l00mpQwDm  Good Morning Little School Girl - Live   \n",
       "2      3k3Q8IZ5oOqCUfOP2UPgpW                  I'll Drown in My Tears   \n",
       "3      1fuxmrrP5JKu0eeHi1c7Ug              When You Got A Good Friend   \n",
       "4      6yziyzrBhA2mFApoJKAill                  Be Careful with a Fool   \n",
       "...                       ...                                     ...   \n",
       "24829  0MJgsjnnH4YdmuNMSRJNz0                       Conception - Live   \n",
       "24830  2uFOq3FSjiEkJ8iLejjF4n            There's a Small Hotel - Live   \n",
       "24831  0BCGxom5IUvEkU4LrnkWXe                 Sippin' at Bells - Live   \n",
       "24832  3AeZJlUAENNYUH3ziWQYO6                         Tenderly - Live   \n",
       "24833  75jObLk27hw3y8QMysTBd2               My Funny Valentine - Live   \n",
       "\n",
       "                                                   album  \\\n",
       "0               Johnny Winter: A Rock N' Roll Collection   \n",
       "1               Johnny Winter: A Rock N' Roll Collection   \n",
       "2               Johnny Winter: A Rock N' Roll Collection   \n",
       "3               Johnny Winter: A Rock N' Roll Collection   \n",
       "4               Johnny Winter: A Rock N' Roll Collection   \n",
       "...                                                  ...   \n",
       "24829  Straight from the Heart - The Great Last Conce...   \n",
       "24830  Straight from the Heart - The Great Last Conce...   \n",
       "24831  Straight from the Heart - The Great Last Conce...   \n",
       "24832  Straight from the Heart - The Great Last Conce...   \n",
       "24833  Straight from the Heart - The Great Last Conce...   \n",
       "\n",
       "                     album_id                        artists  \\\n",
       "0      6yn5Mylr8HsH9PVro7Fo22              ['Johnny Winter']   \n",
       "1      6yn5Mylr8HsH9PVro7Fo22              ['Johnny Winter']   \n",
       "2      6yn5Mylr8HsH9PVro7Fo22              ['Johnny Winter']   \n",
       "3      6yn5Mylr8HsH9PVro7Fo22              ['Johnny Winter']   \n",
       "4      6yn5Mylr8HsH9PVro7Fo22              ['Johnny Winter']   \n",
       "...                       ...                            ...   \n",
       "24829  1GOgoIJQrxa4s2MG675S8D  ['Chet Baker', 'Herb Geller']   \n",
       "24830  1GOgoIJQrxa4s2MG675S8D  ['Chet Baker', 'Herb Geller']   \n",
       "24831  1GOgoIJQrxa4s2MG675S8D  ['Chet Baker', 'Herb Geller']   \n",
       "24832  1GOgoIJQrxa4s2MG675S8D  ['Chet Baker', 'Herb Geller']   \n",
       "24833  1GOgoIJQrxa4s2MG675S8D  ['Chet Baker', 'Herb Geller']   \n",
       "\n",
       "                                              artist_ids  track_number  \\\n",
       "0                             ['2ODUxmFxJSyvGiimNhMHbO']             1   \n",
       "1                             ['2ODUxmFxJSyvGiimNhMHbO']             2   \n",
       "2                             ['2ODUxmFxJSyvGiimNhMHbO']             3   \n",
       "3                             ['2ODUxmFxJSyvGiimNhMHbO']             4   \n",
       "4                             ['2ODUxmFxJSyvGiimNhMHbO']             5   \n",
       "...                                                  ...           ...   \n",
       "24829  ['3rxeQlsv0Sc2nyYaZ5W71T', '3H9ax2xPjWhD150wCD...             3   \n",
       "24830  ['3rxeQlsv0Sc2nyYaZ5W71T', '3H9ax2xPjWhD150wCD...             4   \n",
       "24831  ['3rxeQlsv0Sc2nyYaZ5W71T', '3H9ax2xPjWhD150wCD...             5   \n",
       "24832  ['3rxeQlsv0Sc2nyYaZ5W71T', '3H9ax2xPjWhD150wCD...             6   \n",
       "24833  ['3rxeQlsv0Sc2nyYaZ5W71T', '3H9ax2xPjWhD150wCD...             7   \n",
       "\n",
       "       disc_number  explicit  danceability  ...  acousticness  \\\n",
       "0                1     False         0.415  ...         0.023   \n",
       "1                1     False         0.294  ...         0.188   \n",
       "2                1     False         0.424  ...         0.827   \n",
       "3                1     False         0.504  ...         0.831   \n",
       "4                1     False         0.293  ...         0.494   \n",
       "...            ...       ...           ...  ...           ...   \n",
       "24829            1     False         0.509  ...         0.937   \n",
       "24830            1     False         0.399  ...         0.974   \n",
       "24831            1     False         0.458  ...         0.679   \n",
       "24832            1     False         0.385  ...         0.968   \n",
       "24833            1     False         0.362  ...         0.991   \n",
       "\n",
       "       instrumentalness  liveness  valence    tempo  duration_ms  \\\n",
       "0              0.077100    0.9410    0.924  159.366       203407   \n",
       "1              0.422000    0.9740    0.639  187.886       276968   \n",
       "2              0.000021    0.0742    0.390   95.799       285360   \n",
       "3              0.030000    0.1680    0.787  146.244       218453   \n",
       "4              0.022300    0.2080    0.730  206.991       315133   \n",
       "...                 ...       ...      ...      ...          ...   \n",
       "24829          0.247000    0.7200    0.602  126.930       475800   \n",
       "24830          0.884000    0.6880    0.340  127.161       383640   \n",
       "24831          0.534000    0.6820    0.706  110.376       306493   \n",
       "24832          0.898000    0.6890    0.408  138.515       423040   \n",
       "24833          0.839000    0.1630    0.256   99.143       407827   \n",
       "\n",
       "       time_signature  year  release_date  genre  \n",
       "0                 4.0  1973          1973  blues  \n",
       "1                 4.0  1973          1973  blues  \n",
       "2                 3.0  1973          1973  blues  \n",
       "3                 4.0  1973          1973  blues  \n",
       "4                 3.0  1973          1973  blues  \n",
       "...               ...   ...           ...    ...  \n",
       "24829             4.0  1990    1990-01-01   jazz  \n",
       "24830             4.0  1990    1990-01-01   jazz  \n",
       "24831             3.0  1990    1990-01-01   jazz  \n",
       "24832             4.0  1990    1990-01-01   jazz  \n",
       "24833             3.0  1990    1990-01-01   jazz  \n",
       "\n",
       "[24834 rows x 25 columns]"
      ]
     },
     "execution_count": 2,
     "metadata": {},
     "output_type": "execute_result"
    }
   ],
   "source": [
    "# Load spotify data\n",
    "spotify_data = pd.read_csv('/courses/EDS232/Data/spotify_dat.csv')\n",
    "\n",
    "# Print the data types in spotify_data\n",
    "spotify_data.dtypes\n",
    "spotify_data.genres.unique()\n",
    "\n",
    "# Filter down to two genres\n",
    "blues_data = spotify_data[spotify_data['genres'] == 'blues']\n",
    "jazz_data =  spotify_data[spotify_data['genres'] == 'jazz']\n",
    "\n",
    "# Combine both genres into one dataset\n",
    "combined_data = blues_data.merge(jazz_data, how='outer')\n",
    "combined_data.shape\n",
    "\n",
    "# Rename 'genres' column to 'genre' for clarity\n",
    "combined_data = combined_data.rename(columns={'genres': 'genre'})\n",
    "combined_data\n"
   ]
  },
  {
   "cell_type": "markdown",
   "id": "70e8340d-f51a-4659-b3eb-c0549575552a",
   "metadata": {},
   "source": [
    "## Step 2: Data Exploration\n",
    "Now that we have Blues and Jazz as our two genres, it's time to explore the data and look for patterns in the audio features.\n",
    "\n",
    "Let's investigate:\n",
    "- Which features are available?\n",
    "- How strongly these features correlate with each other.\n",
    "- How different genres distribute across  sample features: danceability \n",
    "\n",
    "In this step, we will:\n",
    "- Filter out non-numeric columns before the plotting\n",
    "- Visualize feature correlations using a heatmap.\n",
    "- Examine key feature distributions with histograms to see if genres behave differently.\n"
   ]
  },
  {
   "cell_type": "code",
   "execution_count": 3,
   "id": "8d476df1-a888-43a2-aabb-987bc9e835aa",
   "metadata": {},
   "outputs": [
    {
     "data": {
      "text/plain": [
       "Text(0.5, 0, 'Danceability Score')"
      ]
     },
     "execution_count": 3,
     "metadata": {},
     "output_type": "execute_result"
    },
    {
     "data": {
      "image/png": "[encoded data removed]",
      "text/plain": [
       "<Figure size 640x480 with 2 Axes>"
      ]
     },
     "metadata": {},
     "output_type": "display_data"
    },
    {
     "data": {
      "image/png": "[encoded data removed]",
      "text/plain": [
       "<Figure size 640x480 with 1 Axes>"
      ]
     },
     "metadata": {},
     "output_type": "display_data"
    }
   ],
   "source": [
    "# Exclude non-numeric columns but keep 'genre' for grouping\n",
    "numeric_features = combined_data.select_dtypes(include=['float64', 'int64'])\n",
    "numeric_features['genre'] = combined_data['genre']\n",
    "numeric_features\n",
    "\n",
    "# Correlation heatmap\n",
    "corr_heatmap = numeric_features.corr(numeric_only=True)\n",
    "sns.heatmap(corr_heatmap)\n",
    "plt.title('Correlation Heatmap of Audio Features')\n",
    "\n",
    "# Histogram of danceability\n",
    "numeric_features.pivot(columns='genre', values='danceability').plot.hist(alpha=0.5)\n",
    "plt.title('Distribution of Danceability')\n",
    "plt.xlabel('Danceability Score')"
   ]
  },
  {
   "cell_type": "markdown",
   "id": "56f79f22-1036-4ae9-90f8-73ad0f6169b0",
   "metadata": {},
   "source": [
    "### Step 3: Check for class imbalance\n",
    "An unequal distribution between the target classes can cause issues for our classifiers, so we'll need to check for that. A commonly used guideline for class imbalance is:\n",
    "\n",
    "- Slight Imbalance (Less than 1.5:1) → Generally okay; no need for balancing.\n",
    "- Moderate Imbalance (Between 1.5:1 and 3:1) → Might cause some bias; balancing can help.\n",
    "- Severe Imbalance (More than 3:1) → Strongly affects model performance; balancing is usually necessary."
   ]
  },
  {
   "cell_type": "code",
   "execution_count": 4,
   "id": "1470168c-bd6c-412a-9549-47ff191e8644",
   "metadata": {},
   "outputs": [
    {
     "name": "stdout",
     "output_type": "stream",
     "text": [
      "genre\n",
      "blues    14811\n",
      "jazz     10023\n",
      "Name: count, dtype: int64\n",
      "\n",
      "Class distribution\n",
      "blues: 14811 samples (59.64%)\n",
      "jazz: 10023 samples (40.36%)\n",
      "\n",
      "Class ratio: 1.48 - Slight Imbalance\n"
     ]
    }
   ],
   "source": [
    "# Print counts of each genre\n",
    "class_counts = (numeric_features['genre']).value_counts()\n",
    "print(class_counts)\n",
    "\n",
    "# Calculate ratio of majority to minority class\n",
    "class_ratio = len(numeric_features[numeric_features['genre'] == 'blues']) / len(numeric_features[numeric_features['genre'] == 'jazz'])\n",
    "class_ratio\n",
    "\n",
    "# Print class distribution and ratio\n",
    "print(\"\\nClass distribution\")\n",
    "for genre in class_counts.index:\n",
    "    percentage = (class_counts[genre] / len(numeric_features)) * 100\n",
    "    print(f\"{genre}: {class_counts[genre]} samples ({percentage:.2f}%)\")\n",
    "\n",
    "print(f\"\\nClass ratio: {class_ratio:.2f} - Slight Imbalance\")"
   ]
  },
  {
   "cell_type": "markdown",
   "id": "a20e289d",
   "metadata": {},
   "source": [
    "Given this result, should we be worried about the imbalance?"
   ]
  },
  {
   "cell_type": "markdown",
   "id": "8d3583ec",
   "metadata": {},
   "source": [
    "No, there is only a slight imbalance (<1.5:1) between the classes, so there should be no need for balancing."
   ]
  },
  {
   "cell_type": "markdown",
   "id": "8a5d0f97",
   "metadata": {},
   "source": [
    "### Step 4: Preprocessing\n",
    "We need to ensure all the variables we use are numerical so the models can process them. First we'll drop all the variables that are not numeric or the target. Then we'll use a sklearn utility, `LabelEncoder()` to encode our categorical target variable into numerical values. Print the first five values of your encoded labels."
   ]
  },
  {
   "cell_type": "code",
   "execution_count": 5,
   "id": "6ce674f3",
   "metadata": {
    "tags": []
   },
   "outputs": [
    {
     "name": "stdout",
     "output_type": "stream",
     "text": [
      "[0 0 0 0 0]\n"
     ]
    },
    {
     "name": "stderr",
     "output_type": "stream",
     "text": [
      "/opt/anaconda3/envs/ml-env/lib/python3.10/site-packages/sklearn/preprocessing/_label.py:114: DataConversionWarning: A column-vector y was passed when a 1d array was expected. Please change the shape of y to (n_samples, ), for example using ravel().\n",
      "  y = column_or_1d(y, warn=True)\n"
     ]
    }
   ],
   "source": [
    "# Define the features (drop columns that are not numeric or target)\n",
    "X = combined_data.select_dtypes(include=['float64', 'int64'])\n",
    "\n",
    "# Set the target variable as 'genre'\n",
    "y =  numeric_features[['genre']]\n",
    "\n",
    "# Encode the target variable ('label') using label encoding\n",
    "label_encoder = LabelEncoder()\n",
    "y_encoded = label_encoder.fit_transform(y)\n",
    "\n",
    "# Print first five values of encoded labels\n",
    "print(y_encoded[:5])"
   ]
  },
  {
   "cell_type": "markdown",
   "id": "fee85305",
   "metadata": {},
   "source": [
    "Good, now we'll do our data splitting and scaling.  Let's go with an 80/20 split this time."
   ]
  },
  {
   "cell_type": "code",
   "execution_count": 6,
   "id": "2a0cf1df",
   "metadata": {},
   "outputs": [],
   "source": [
    "# Split data into 80% train and 20% test\n",
    "X_train, X_test, y_train, y_test = train_test_split(\n",
    "    X, y_encoded, test_size=0.2, random_state=42\n",
    ")\n",
    "\n",
    "# Initialize the scaler\n",
    "scaler = StandardScaler()\n",
    "\n",
    "# Fit and transform only the training set\n",
    "X_train_scaled = scaler.fit_transform(X_train)\n",
    "\n",
    "# Use the same scaler to transform the test set\n",
    "X_test_scaled = scaler.transform(X_test)"
   ]
  },
  {
   "cell_type": "markdown",
   "id": "d74c0a3c-c1b9-438a-8e44-5654e6406f6d",
   "metadata": {},
   "source": [
    "### Step 5: Train the models\n",
    "OK, now it's time to build our models and assess the training accuracy. We'll use the default of k = 5 for the KNN model."
   ]
  },
  {
   "cell_type": "code",
   "execution_count": 7,
   "id": "3f88e4c7",
   "metadata": {},
   "outputs": [
    {
     "name": "stdout",
     "output_type": "stream",
     "text": [
      "KNN Training Accuracy: 0.921\n",
      "Decision Tree Training Accuracy: 1.000\n"
     ]
    }
   ],
   "source": [
    "# Initialize models\n",
    "knn = KNeighborsClassifier()\n",
    "dt = DecisionTreeClassifier()\n",
    "\n",
    "# Train (fit) both models\n",
    "knn.fit(X_train_scaled, y_train)\n",
    "dt.fit(X_train_scaled, y_train)\n",
    "\n",
    "# Predictions on training data\n",
    "knn_y_train_pred = knn.predict(X_train_scaled)\n",
    "dt_y_train_pred = dt.predict(X_train_scaled)\n",
    "\n",
    "# Compute training accuracy\n",
    "knn_train_accuracy = accuracy_score(y_train, knn_y_train_pred)\n",
    "dt_train_accuracy = accuracy_score(y_train, dt_y_train_pred)\n",
    "\n",
    "#Print training accuracy for both models\n",
    "print(f\"KNN Training Accuracy: {knn_train_accuracy:.3f}\")\n",
    "print(f\"Decision Tree Training Accuracy: {dt_train_accuracy:.3f}\")"
   ]
  },
  {
   "cell_type": "markdown",
   "id": "8a0ec565",
   "metadata": {},
   "source": [
    "### Step 6: Evaluate models\n",
    "OK, now let's go ahead and predict on the test data to see how well our models do at predicting the genre of unseen tracks."
   ]
  },
  {
   "cell_type": "code",
   "execution_count": 8,
   "id": "b1ce64ad",
   "metadata": {},
   "outputs": [
    {
     "name": "stdout",
     "output_type": "stream",
     "text": [
      "KNN Test Accuracy: 0.892\n",
      "Decision Tree Test Accuracy: 0.852\n"
     ]
    }
   ],
   "source": [
    "# Make predictions\n",
    "knn_pred = knn.predict(X_test_scaled)\n",
    "dt_pred = dt.predict(X_test_scaled)\n",
    "\n",
    "# Evaluate prediction accuracy\n",
    "knn_accuracy = accuracy_score(y_test, knn_pred)\n",
    "dt_accuracy = accuracy_score(y_test, dt_pred)\n",
    "\n",
    "# Print prediction accuracy for both models\n",
    "print(f\"KNN Test Accuracy: {knn_accuracy:.3f}\")\n",
    "print(f\"Decision Tree Test Accuracy: {dt_accuracy:.3f}\")"
   ]
  },
  {
   "cell_type": "markdown",
   "id": "84aed7de",
   "metadata": {},
   "source": [
    "### Step 7: Visualizing Model Performance\n",
    "Now that we have evaluated our models on unseen data, let’s compare their performance by visualizing the training vs. test accuracy.  We'll look for signs of overfitting by plotting the training accuracy and test accuracy for both k-NN and Decision Trees.\n",
    "\n",
    "Create a bar chart that compares the training accuracy and test accuracy for k-NN and Decision Trees. Your plot should clearly display:\n",
    "\n",
    "- The training and test accuracy for both models.\n",
    "- Properly labeled axes and a title.\n",
    "- A legend to differentiate training and test accuracy.\n",
    "- Accuracy values displayed on top of each bar."
   ]
  },
  {
   "cell_type": "code",
   "execution_count": 9,
   "id": "ce4efa80",
   "metadata": {},
   "outputs": [
    {
     "data": {
      "image/png": "[encoded data removed]",
      "text/plain": [
       "<Figure size 1000x800 with 1 Axes>"
      ]
     },
     "metadata": {},
     "output_type": "display_data"
    }
   ],
   "source": [
    "# Create a data frame containing accuracy scores\n",
    "performance = pd.DataFrame(\n",
    "    {\n",
    "        \"Model\": [\"KNN\", \"Decision Tree\"],\n",
    "        \"Training Accuracy\": [(knn_train_accuracy), dt_train_accuracy],\n",
    "        \"Test Accuracy\": [knn_accuracy, dt_accuracy],\n",
    "    }\n",
    ")\n",
    "performance = pd.melt(\n",
    "    performance,\n",
    "    id_vars=[\"Model\"],\n",
    "    value_vars=[\"Training Accuracy\", \"Test Accuracy\"],\n",
    "    var_name=\"Metric\",\n",
    "    value_name=\"Accuracy\",\n",
    ")\n",
    "\n",
    "performance\n",
    "\n",
    "# Visualize model performance using a bar chart\n",
    "plt.figure(figsize=(10, 8))\n",
    "ax = sns.barplot(\n",
    "    data=performance,\n",
    "    x=\"Model\",\n",
    "    y=\"Accuracy\",\n",
    "    hue=\"Metric\",\n",
    "    palette=[\"orchid\", \"purple\"],\n",
    ")\n",
    "plt.title(\"Model Performance Comparison\")\n",
    "for container in ax.containers:\n",
    "    ax.bar_label(container)"
   ]
  },
  {
   "cell_type": "markdown",
   "id": "2bea31ee",
   "metadata": {},
   "source": [
    "Which model does a better job of generalizing to unseen data? How do you know?\n",
    "Does it appear that either of the models are overfitting? Why?"
   ]
  },
  {
   "cell_type": "markdown",
   "id": "7a6ab978",
   "metadata": {},
   "source": [
    "The KNN model does a better job of generalizing to unseen data because it has a better accuracy (0.892) on the test data compared to the DT model (0.853). It appears that the decision tree model is overfitting the data because the training accuracy is 1, which means that it is perfectly fitting all the variance in the training data (low bias, but high variance). The test accuracy for the DT model is lower, meaning it is not doing as well on unseen data. This is because we did not set a max depth for the decision tree."
   ]
  },
  {
   "cell_type": "markdown",
   "id": "b0fb937d-c97c-49f8-9376-1b03b51b0226",
   "metadata": {},
   "source": [
    "### Bonus question\n",
    "In the workflow above, we used the default parameter values of k = 5 for the KNN model, and maxdepth = None for the Decision Tree. Choose one of the models and see if you can improve test performance by optmizing its corresponding parameter value."
   ]
  },
  {
   "cell_type": "code",
   "execution_count": 10,
   "id": "ddf4c507",
   "metadata": {},
   "outputs": [
    {
     "name": "stdout",
     "output_type": "stream",
     "text": [
      "Best max_depth: 8\n"
     ]
    }
   ],
   "source": [
    "# Define the parameter grid\n",
    "param_depth = {\"max_depth\": list(range(1, 21))}\n",
    "\n",
    "# Fit the GridSearchCV object to the data\n",
    "grid_search = GridSearchCV(dt, param_depth, cv=5, scoring='accuracy')\n",
    "grid_search.fit(X_train_scaled, y_train)\n",
    "\n",
    "# Print the best parameters\n",
    "print(f\"Best max_depth: {grid_search.best_params_['max_depth']}\")"
   ]
  },
  {
   "cell_type": "code",
   "execution_count": 13,
   "id": "a72425dc",
   "metadata": {},
   "outputs": [
    {
     "name": "stdout",
     "output_type": "stream",
     "text": [
      "Best DT Training Accuracy: 0.912\n",
      "Best DT Training Accuracy: 0.879\n"
     ]
    }
   ],
   "source": [
    "# Fit best performing tree\n",
    "dt_best = DecisionTreeClassifier(max_depth=8, random_state=42)\n",
    "dt_best.fit(X_train_scaled, y_train)\n",
    "\n",
    "# Make predictions on training data & evaluate accuracy\n",
    "dt_best_train_pred = dt_best.predict(X_train_scaled)\n",
    "dt_best_train_accuracy = accuracy_score(y_train, dt_best_train_pred)\n",
    "print(f\"Best DT Training Accuracy: {dt_best_train_accuracy:.3f}\")\n",
    "\n",
    "# Make predictions on test data & evaluate accuracy\n",
    "dt_best_test_pred = dt_best.predict(X_test_scaled)\n",
    "dt_best_test_accuracy = accuracy_score(y_test, dt_best_test_pred)\n",
    "print(f\"Best DT Test Accuracy: {dt_best_test_accuracy:.3f}\")\n"
   ]
  },
  {
   "cell_type": "markdown",
   "id": "5aa65966",
   "metadata": {},
   "source": [
    "`GridSearchCV` finds the best `max_depth` is 8. The test accuracy improves from our original test accuracy of 0.852. In this approach, `GridSearchCV` uses cross-validation on the training data to find the best depth."
   ]
  }
 ],
 "metadata": {
  "kernelspec": {
   "display_name": "ml-env",
   "language": "python",
   "name": "python3"
  },
  "language_info": {
   "codemirror_mode": {
    "name": "ipython",
    "version": 3
   },
   "file_extension": ".py",
   "mimetype": "text/x-python",
   "name": "python",
   "nbconvert_exporter": "python",
   "pygments_lexer": "ipython3",
   "version": "3.10.16"
  }
 },
 "nbformat": 4,
 "nbformat_minor": 5
}
